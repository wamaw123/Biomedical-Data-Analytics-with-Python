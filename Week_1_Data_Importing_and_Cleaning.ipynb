{
  "nbformat": 4,
  "nbformat_minor": 0,
  "metadata": {
    "colab": {
      "private_outputs": true,
      "provenance": [],
      "authorship_tag": "ABX9TyNba1Fa6xxTXJuVMErZEzf0",
      "include_colab_link": true
    },
    "kernelspec": {
      "name": "python3",
      "display_name": "Python 3"
    },
    "language_info": {
      "name": "python"
    }
  },
  "cells": [
    {
      "cell_type": "markdown",
      "metadata": {
        "id": "view-in-github",
        "colab_type": "text"
      },
      "source": [
        "<a href=\"https://colab.research.google.com/github/wamaw123/Biomedical_Data_analysis/blob/main/Week_1_Data_Importing_and_Cleaning.ipynb\" target=\"_parent\"><img src=\"https://colab.research.google.com/assets/colab-badge.svg\" alt=\"Open In Colab\"/></a>"
      ]
    },
    {
      "cell_type": "code",
      "execution_count": null,
      "metadata": {
        "id": "qOyrRNoHNGJ8"
      },
      "outputs": [],
      "source": [
        "# Import necessary libraries\n",
        "import pandas as pd\n",
        "import numpy as np\n",
        "import matplotlib.pyplot as plt\n",
        "import seaborn as sns\n",
        "\n",
        "# Set up the notebook for visualizations\n",
        "%matplotlib inline\n",
        "\n",
        "# Load the dataset from GitHub\n",
        "url = \"https://raw.githubusercontent.com/wamaw123/Biomedical_Data_analysis/c072fdafc2b2abe4e002f8611f80bcf5fd8366b8/Datasets/Week_1/week_1.csv\"\n",
        "data = pd.read_csv(url)\n",
        "\n",
        "# Display the first few rows of the dataset to understand its structure\n",
        "print(data.head())\n",
        "\n",
        "# Conduct Descriptive Statistics\n",
        "\n",
        "# Get a summary of the dataset\n",
        "print(\"\\nDataset Summary:\")\n",
        "print(data.describe())\n",
        "\n",
        "# Check for missing values in the dataset\n",
        "print(\"\\nMissing Values:\")\n",
        "print(data.isnull().sum())\n",
        "\n",
        "# Handle Missing Values\n",
        "\n",
        "# For simplicity, we'll fill missing values with the mean of the respective column.\n",
        "# However, depending on the nature of the data, other imputation methods might be more appropriate.\n",
        "data.fillna(data.mean(), inplace=True)\n",
        "\n",
        "# Check again for missing values to ensure they've been handled\n",
        "print(\"\\nMissing Values After Imputation:\")\n",
        "print(data.isnull().sum())\n",
        "\n",
        "# Handle Outliers\n",
        "\n",
        "# For this example, we'll use the IQR method to detect and handle outliers.\n",
        "# Calculate IQR for each column\n",
        "Q1 = data.quantile(0.25)\n",
        "Q3 = data.quantile(0.75)\n",
        "IQR = Q3 - Q1\n",
        "\n",
        "# Define bounds for the outliers\n",
        "lower_bound = Q1 - 1.5 * IQR\n",
        "upper_bound = Q3 + 1.5 * IQR\n",
        "\n",
        "# Replace outliers with NaN\n",
        "data_outliers_handled = data[~((data < lower_bound) | (data > upper_bound)).any(axis=1)]\n",
        "\n",
        "# Display the shape of the data after handling outliers\n",
        "print(\"\\nData Shape After Handling Outliers:\")\n",
        "print(data_outliers_handled.shape)\n",
        "\n",
        "# Data Visualization\n",
        "\n",
        "# Plot histograms for each column to understand data distribution\n",
        "data_outliers_handled.hist(figsize=(12, 10))\n",
        "plt.suptitle(\"Histograms of Data Columns\")\n",
        "plt.show()\n",
        "\n",
        "# Plot boxplots for each column to further inspect outliers and data distribution\n",
        "plt.figure(figsize=(12, 10))\n",
        "sns.boxplot(data=data_outliers_handled)\n",
        "plt.title(\"Boxplots of Data Columns\")\n",
        "plt.show()\n",
        "\n",
        "# Normalize and Standardize Data\n",
        "\n",
        "# For this example, we'll use Min-Max normalization and Z-score standardization.\n",
        "\n",
        "# Min-Max normalization\n",
        "normalized_data = (data_outliers_handled - data_outliers_handled.min()) / (data_outliers_handled.max() - data_outliers_handled.min())\n",
        "\n",
        "# Z-score standardization\n",
        "standardized_data = (data_outliers_handled - data_outliers_handled.mean()) / data_outliers_handled.std()\n",
        "\n",
        "# Display the first few rows of normalized and standardized data\n",
        "print(\"\\nNormalized Data:\")\n",
        "print(normalized_data.head())\n",
        "print(\"\\nStandardized Data:\")\n",
        "print(standardized_data.head())\n"
      ]
    }
  ]
}